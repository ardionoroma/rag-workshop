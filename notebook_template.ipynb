{
  "cells": [
    {
      "cell_type": "markdown",
      "metadata": {
        "id": "view-in-github",
        "colab_type": "text"
      },
      "source": [
        "<a href=\"https://colab.research.google.com/github/ardionoroma/rag-workshop/blob/main/notebook_template.ipynb\" target=\"_parent\"><img src=\"https://colab.research.google.com/assets/colab-badge.svg\" alt=\"Open In Colab\"/></a>"
      ]
    },
    {
      "cell_type": "markdown",
      "metadata": {
        "id": "6ermQxWs27HR"
      },
      "source": [
        "[![Open In Colab](https://colab.research.google.com/assets/colab-badge.svg)](https://colab.research.google.com/github/mongodb-developer/ai-rag-lab-notebooks/blob/main/notebook_template.ipynb)\n"
      ]
    },
    {
      "cell_type": "markdown",
      "metadata": {
        "id": "-6P0rgvM27HS"
      },
      "source": [
        "[![Lab Documentation and Solutions](https://img.shields.io/badge/Lab%20Documentation%20and%20Solutions-purple)](https://mongodb-developer.github.io/ai-rag-lab/)\n"
      ]
    },
    {
      "cell_type": "markdown",
      "metadata": {
        "id": "8qLvv67p27HT"
      },
      "source": [
        "# Step 1: Install libraries\n"
      ]
    },
    {
      "cell_type": "code",
      "execution_count": null,
      "metadata": {
        "id": "VEHkryIv27HT"
      },
      "outputs": [],
      "source": [
        "! pip install -qU pymongo datasets langchain fireworks-ai tiktoken sentence_transformers tqdm"
      ]
    },
    {
      "cell_type": "markdown",
      "metadata": {
        "id": "189qg4u-27HU"
      },
      "source": [
        "# Step 2: Setup prerequisites\n",
        "\n",
        "Replace:\n",
        "\n",
        "- `<CODE_BLOCK_1>` with your **MongoDB connection string**\n",
        "- `<CODE_BLOCK_2>` with your **Fireworks API key**\n"
      ]
    },
    {
      "cell_type": "code",
      "execution_count": null,
      "metadata": {
        "id": "ArL-Kg_027HU"
      },
      "outputs": [],
      "source": [
        "import os"
      ]
    },
    {
      "cell_type": "code",
      "execution_count": null,
      "metadata": {
        "id": "tg2tRXvf27HU"
      },
      "outputs": [],
      "source": [
        "# Retain the quotes (\"\") when pasting the URI\n",
        "MONGODB_URI = \"<CODE_BLOCK_1\""
      ]
    },
    {
      "cell_type": "code",
      "execution_count": null,
      "metadata": {
        "id": "NyNhn2H727HU"
      },
      "outputs": [],
      "source": [
        "# Retain the quotes (\"\") when pasting the API key\n",
        "os.environ[\"FIREWORKS_API_KEY\"] = \"<CODE_BLOCK_2>\""
      ]
    },
    {
      "cell_type": "markdown",
      "metadata": {
        "id": "Je456GjM27HV"
      },
      "source": [
        "# Step 3: Load the dataset\n"
      ]
    },
    {
      "cell_type": "code",
      "execution_count": null,
      "metadata": {
        "id": "4ZA6Ecwl27HV"
      },
      "outputs": [],
      "source": [
        "import pandas as pd\n",
        "from datasets import load_dataset"
      ]
    },
    {
      "cell_type": "code",
      "execution_count": null,
      "metadata": {
        "id": "ljmgMFPT27HV"
      },
      "outputs": [],
      "source": [
        "data = load_dataset(\"mongodb/devcenter-articles\", split=\"train\", streaming=True)\n",
        "data_head = data.take(20)\n",
        "docs = pd.DataFrame(data_head).to_dict(\"records\")"
      ]
    },
    {
      "cell_type": "code",
      "execution_count": null,
      "metadata": {
        "id": "lj1EOM8k27HV"
      },
      "outputs": [],
      "source": [
        "# Check the number of documents in the dataset\n",
        "len(docs)"
      ]
    },
    {
      "cell_type": "code",
      "execution_count": null,
      "metadata": {
        "id": "cDrwSx5j27HV"
      },
      "outputs": [],
      "source": [
        "# Preview a document\n",
        "docs[0]"
      ]
    },
    {
      "cell_type": "markdown",
      "metadata": {
        "id": "d6kfW_-g27HV"
      },
      "source": [
        "# Step 4: Chunk up the data\n"
      ]
    },
    {
      "cell_type": "code",
      "execution_count": null,
      "metadata": {
        "id": "fu7xVx6R27HV"
      },
      "outputs": [],
      "source": [
        "from langchain.text_splitter import RecursiveCharacterTextSplitter\n",
        "from typing import Dict, List"
      ]
    },
    {
      "cell_type": "code",
      "execution_count": null,
      "metadata": {
        "id": "2gf-q8Ek27HW"
      },
      "outputs": [],
      "source": [
        "# Separators to split on\n",
        "separators = [\"\\n\\n\", \"\\n\", \" \", \"\", \"#\", \"##\", \"###\"]"
      ]
    },
    {
      "cell_type": "markdown",
      "metadata": {
        "id": "rT78cvLI27HW"
      },
      "source": [
        "📚 https://python.langchain.com/v0.1/docs/modules/data_connection/document_transformers/split_by_token/#tiktoken\n"
      ]
    },
    {
      "cell_type": "code",
      "execution_count": null,
      "metadata": {
        "id": "7gyUvTei27HW"
      },
      "outputs": [],
      "source": [
        "# Use the `RecursiveCharacterTextSplitter` text splitter with the `cl100k_base` encoding\n",
        "# For text data, you typically want to keep 1-2 paragraphs (~200 tokens) in a single chunk\n",
        "# Chunk overlap of 15-20% of the chunk size is recommended\n",
        "# Pass the `separators` list above as an argument called `separators`\n",
        "text_splitter = <CODE_BLOCK_3>"
      ]
    },
    {
      "cell_type": "markdown",
      "metadata": {
        "id": "rGthyjkK27HW"
      },
      "source": [
        "📚 https://api.python.langchain.com/en/latest/character/langchain_text_splitters.character.RecursiveCharacterTextSplitter.html\n",
        "\n",
        "📚 https://docs.python.org/3/library/copy.html\n",
        "\n",
        "📚 https://docs.python.org/3/tutorial/datastructures.html\n"
      ]
    },
    {
      "cell_type": "code",
      "execution_count": null,
      "metadata": {
        "id": "5HNaxpmw27HW"
      },
      "outputs": [],
      "source": [
        "def get_chunks(doc: Dict, text_field: str) -> List[Dict]:\n",
        "    \"\"\"\n",
        "    Chunk up a document.\n",
        "\n",
        "    Args:\n",
        "        doc (Dict): Parent document to generate chunks from.\n",
        "        text_field (str): Text field to chunk.\n",
        "\n",
        "    Returns:\n",
        "        List[Dict]: List of chunked documents.\n",
        "    \"\"\"\n",
        "    # Extract the field to chunk from `doc`\n",
        "    text = <CODE_BLOCK_4>\n",
        "    # Split `text` using the appropriate method of the `RecursiveCharacterTextSplitter` class\n",
        "    # NOTE: `text` is a string\n",
        "    chunks = <CODE_BLOCK_5>\n",
        "\n",
        "    # Write code to iterate through `chunks` and for each chunk:\n",
        "    # 1. Create a shallow copy of `doc`, call it `temp`\n",
        "    # 2. Set the `text_field` field in `temp` to the content of the chunk\n",
        "    # 3. Append `temp` to `chunked_data`\n",
        "\n",
        "    chunked_data = []\n",
        "    <CODE_BLOCK_6>\n",
        "\n",
        "    return chunked_data"
      ]
    },
    {
      "cell_type": "code",
      "execution_count": null,
      "metadata": {
        "id": "Npjem8ND27HW"
      },
      "outputs": [],
      "source": [
        "split_docs = []"
      ]
    },
    {
      "cell_type": "markdown",
      "metadata": {
        "id": "3vk1KINZ27HW"
      },
      "source": [
        "📚 https://docs.python.org/3/tutorial/datastructures.html\n"
      ]
    },
    {
      "cell_type": "code",
      "execution_count": null,
      "metadata": {
        "id": "PbjnqZG_27HW"
      },
      "outputs": [],
      "source": [
        "# Write code to iterate through `docs`, use the `get_chunks` function to chunk up the documents based on the \"body\" field, and add the list of chunked documents to `split_docs` initialized above.\n",
        "# NOTE: `get_chunks` returns a list of documents so use the appropriate method from the reference docs above to add ALL the chunked documents to `split_docs`.\n",
        "<CODE_BLOCK_7>"
      ]
    },
    {
      "cell_type": "code",
      "execution_count": null,
      "metadata": {
        "id": "xwfIoSug27HX"
      },
      "outputs": [],
      "source": [
        "# Check that the length of the list of chunked documents is greater than the length of `docs`\n",
        "len(split_docs)"
      ]
    },
    {
      "cell_type": "code",
      "execution_count": null,
      "metadata": {
        "id": "x6WyzTmL27HX"
      },
      "outputs": [],
      "source": [
        "# Preview one of the items in split_docs- ensure that it is a Python dictionary\n",
        "split_docs[0]"
      ]
    },
    {
      "cell_type": "markdown",
      "metadata": {
        "id": "GZaibNxt27HX"
      },
      "source": [
        "# Step 5: Generate embeddings\n"
      ]
    },
    {
      "cell_type": "code",
      "execution_count": null,
      "metadata": {
        "id": "OgzqZZMp27HX"
      },
      "outputs": [],
      "source": [
        "from sentence_transformers import SentenceTransformer\n",
        "from tqdm import tqdm"
      ]
    },
    {
      "cell_type": "markdown",
      "metadata": {
        "id": "q088cnK_27HX"
      },
      "source": [
        "📚 https://huggingface.co/thenlper/gte-small\n"
      ]
    },
    {
      "cell_type": "code",
      "execution_count": null,
      "metadata": {
        "id": "z0gjg-k327HX"
      },
      "outputs": [],
      "source": [
        "# Load the `gte-small` model using the Sentence Transformers library\n",
        "embedding_model = <CODE_BLOCK_8>"
      ]
    },
    {
      "cell_type": "markdown",
      "metadata": {
        "id": "OG7qfjSu27HX"
      },
      "source": [
        "📚 https://huggingface.co/thenlper/gte-small"
      ]
    },
    {
      "cell_type": "code",
      "execution_count": null,
      "metadata": {
        "id": "2LVvy6Gv27HX"
      },
      "outputs": [],
      "source": [
        "# Write a function that takes a piece of text (`text`) as input, embeds it using the `embedding_model` instantiated above and returns the embedding as a list\n",
        "# NOTE: An array can be converted to a list using the `tolist()` method\n",
        "def get_embedding(text: str) -> List[float]:\n",
        "    \"\"\"\n",
        "    Generate the embedding for a piece of text.\n",
        "\n",
        "    Args:\n",
        "        text (str): Text to embed.\n",
        "\n",
        "    Returns:\n",
        "        List[float]: Embedding of the text as a list.\n",
        "    \"\"\"\n",
        "    <CODE_BLOCK_9>"
      ]
    },
    {
      "cell_type": "code",
      "execution_count": null,
      "metadata": {
        "id": "nRCqQqH427HX"
      },
      "outputs": [],
      "source": [
        "embedded_docs = []"
      ]
    },
    {
      "cell_type": "markdown",
      "metadata": {
        "id": "spaCk0J527HX"
      },
      "source": [
        "📚 https://docs.python.org/3/tutorial/datastructures.html\n",
        "\n",
        "📚 https://github.com/tqdm/tqdm"
      ]
    },
    {
      "cell_type": "code",
      "execution_count": null,
      "metadata": {
        "id": "QwLejS3427HX"
      },
      "outputs": [],
      "source": [
        "# Write code to add an `embedding` field to each dictionary in `split_docs`\n",
        "# The `embedding` field should correspond to the embedding of the value of the `body` field\n",
        "# Use the `get_embedding` function defined above to generate the embedding\n",
        "# Use `tqdm` to view progress\n",
        "# NOTE: Append the updated dictionaries to `embedded_docs` initialized above.\n",
        "<CODE_BLOCK_10>"
      ]
    },
    {
      "cell_type": "code",
      "execution_count": null,
      "metadata": {
        "id": "SkWMgfAF27HX"
      },
      "outputs": [],
      "source": [
        "# Check that the length of `embedded_docs` is the same as that of `split_docs`\n",
        "len(embedded_docs)"
      ]
    },
    {
      "cell_type": "markdown",
      "metadata": {
        "id": "eXD5j_Cc27HX"
      },
      "source": [
        "# Step 6: Ingest data into MongoDB\n"
      ]
    },
    {
      "cell_type": "code",
      "execution_count": null,
      "metadata": {
        "id": "n7HS_tnt27HX"
      },
      "outputs": [],
      "source": [
        "from pymongo import MongoClient"
      ]
    },
    {
      "cell_type": "code",
      "execution_count": null,
      "metadata": {
        "id": "RRQ304AW27HY"
      },
      "outputs": [],
      "source": [
        "# Initialize a MongoDB Python client\n",
        "mongodb_client = MongoClient(MONGODB_URI, appname=\"devrel.workshop.rag\")"
      ]
    },
    {
      "cell_type": "code",
      "execution_count": null,
      "metadata": {
        "id": "FT-Hi5Qp27HY"
      },
      "outputs": [],
      "source": [
        "# Name of the database -- Change if needed or leave as is\n",
        "DB_NAME = \"mongodb_rag_lab\"\n",
        "# Name of the collection -- Change if needed or leave as is\n",
        "COLLECTION_NAME = \"knowledge_base\"\n",
        "# Name of the vector search index -- Change if needed or leave as is\n",
        "ATLAS_VECTOR_SEARCH_INDEX_NAME = \"vector_index\""
      ]
    },
    {
      "cell_type": "markdown",
      "metadata": {
        "id": "SrglB_F_27HY"
      },
      "source": [
        "📚 https://pymongo.readthedocs.io/en/stable/tutorial.html#getting-a-collection\n"
      ]
    },
    {
      "cell_type": "code",
      "execution_count": null,
      "metadata": {
        "id": "UazVOg7c27HY"
      },
      "outputs": [],
      "source": [
        "# Connect to the collection defined above using the `mongodb_client`\n",
        "collection = <CODE_BLOCK_11>"
      ]
    },
    {
      "cell_type": "markdown",
      "metadata": {
        "id": "UxfsS1Q727HY"
      },
      "source": [
        "📚 https://pymongo.readthedocs.io/en/stable/api/pymongo/collection.html#pymongo.collection.Collection.delete_many\n"
      ]
    },
    {
      "cell_type": "code",
      "execution_count": null,
      "metadata": {
        "id": "4k0izF_f27HY"
      },
      "outputs": [],
      "source": [
        "# Bulk delete all existing records from the collection defined above -- should be a one-liner\n",
        "<CODE_BLOCK_12>"
      ]
    },
    {
      "cell_type": "markdown",
      "metadata": {
        "id": "mfGzsDoQ27HY"
      },
      "source": [
        "📚 https://pymongo.readthedocs.io/en/stable/examples/bulk.html#bulk-insert\n"
      ]
    },
    {
      "cell_type": "code",
      "execution_count": null,
      "metadata": {
        "id": "wJoM6CBv27HY"
      },
      "outputs": [],
      "source": [
        "# Bulk insert `embedded_docs` into the collection defined above -- should be a one-liner\n",
        "<CODE_BLOCK_13>\n",
        "\n",
        "print(\"Data ingestion into MongoDB completed\")"
      ]
    },
    {
      "cell_type": "markdown",
      "metadata": {
        "id": "NATCAoxw27HY"
      },
      "source": [
        "# Step 7: Create a vector search index\n",
        "\n",
        "Follow the instructions in the documentation to create a Vector Search index in the Atlas UI.\n"
      ]
    },
    {
      "cell_type": "markdown",
      "metadata": {
        "id": "LmqUov1B27HZ"
      },
      "source": [
        "# Step 8: Perform semantic search on your data\n"
      ]
    },
    {
      "cell_type": "markdown",
      "metadata": {
        "id": "u42pnqxX27HZ"
      },
      "source": [
        "### Define a vector search function\n",
        "\n",
        "📚 https://www.mongodb.com/docs/atlas/atlas-vector-search/vector-search-stage/#fields\n",
        "\n",
        "📚 https://www.mongodb.com/docs/atlas/atlas-vector-search/vector-search-stage/#ann-examples (Refer to the \"Basic Example\")\n"
      ]
    },
    {
      "cell_type": "code",
      "execution_count": null,
      "metadata": {
        "id": "OUwi8ccG27HZ"
      },
      "outputs": [],
      "source": [
        "# Define a function to retrieve relevant documents for a user query using vector search\n",
        "def vector_search(user_query: str) -> List[Dict]:\n",
        "    \"\"\"\n",
        "    Retrieve relevant documents for a user query using vector search.\n",
        "\n",
        "    Args:\n",
        "    user_query (str): The user's query string.\n",
        "\n",
        "    Returns:\n",
        "    list: A list of matching documents.\n",
        "    \"\"\"\n",
        "\n",
        "    # Generate embedding for the `user_query` using the `get_embedding` function defined in Step 5\n",
        "    query_embedding = <CODE_BLOCK_14>\n",
        "\n",
        "    # Define an aggregation pipeline consisting of a $vectorSearch stage, followed by a $project stage\n",
        "    # Set the number of candidates to 150 and only return the top 5 documents from the vector search\n",
        "    # In the $project stage, exclude the `_id` field and include only the `body` field and `vectorSearchScore`\n",
        "    # NOTE: Use variables defined previously for the `index`, `queryVector` and `path` fields in the $vectorSearch stage\n",
        "    pipeline = <CODE_BLOCK_15>\n",
        "\n",
        "    # Execute the aggregation `pipeline`` and store the results in `results`\n",
        "    results = <CODE_BLOCK_16>\n",
        "    return list(results)"
      ]
    },
    {
      "cell_type": "markdown",
      "metadata": {
        "id": "P0VD2W2t27HZ"
      },
      "source": [
        "### Run vector search queries\n"
      ]
    },
    {
      "cell_type": "code",
      "execution_count": null,
      "metadata": {
        "id": "mV9uXimd27HZ"
      },
      "outputs": [],
      "source": [
        "vector_search(\"What is MongoDB Atlas Search?\")"
      ]
    },
    {
      "cell_type": "code",
      "execution_count": null,
      "metadata": {
        "id": "tVsfeTYP27HZ"
      },
      "outputs": [],
      "source": [
        "vector_search(\"What are triggers in MongoDB Atlas?\")"
      ]
    },
    {
      "cell_type": "markdown",
      "metadata": {
        "id": "B93tIA5N27HZ"
      },
      "source": [
        "# 🦹‍♀️ Combine pre-filtering with vector search\n",
        "\n",
        "📚 https://www.mongodb.com/docs/atlas/atlas-vector-search/vector-search-type/#about-the-filter-type\n",
        "\n",
        "📚 https://www.mongodb.com/docs/atlas/atlas-vector-search/vector-search-stage/#ann-examples (Refer to the \"Filter Example\")\n"
      ]
    },
    {
      "cell_type": "markdown",
      "metadata": {
        "id": "jOLaRPN927HZ"
      },
      "source": [
        "#### Filter for documents where the content type is `Video`\n"
      ]
    },
    {
      "cell_type": "code",
      "execution_count": null,
      "metadata": {
        "id": "GhmklhAb27HZ"
      },
      "outputs": [],
      "source": [
        "# Modify the vector search index definition to include the `metadata.contentType` field as a `filter` field\n",
        "# NOTE: DO NOT modify the vector index definition in the Atlas UI\n",
        "<CODE_BLOCK_17>"
      ]
    },
    {
      "cell_type": "code",
      "execution_count": null,
      "metadata": {
        "id": "SKXdvt2Q27HZ"
      },
      "outputs": [],
      "source": [
        "# Modify the $vectorSearch stage of the aggregation pipeline defined previously to include a filter for documents where the `metadata.contentType` field has the value \"Video\"\n",
        "# NOTE: DO NOT assign this modification to the `pipeline` variable. Only write out the pipeline definition\n",
        "<CODE_BLOCK_18>"
      ]
    },
    {
      "cell_type": "markdown",
      "metadata": {
        "id": "sTZ3_jM127HZ"
      },
      "source": [
        "#### Filter on documents which have been updated on or after `2024-05-20` and where the content type is `Video`\n"
      ]
    },
    {
      "cell_type": "code",
      "execution_count": null,
      "metadata": {
        "id": "FHN3trdi27HZ"
      },
      "outputs": [],
      "source": [
        "# Modify the vector search index definition to include the `metadata.contentType` and `updated` fields as `filter` fields\n",
        "# NOTE: DO NOT modify the vector index definition in the Atlas UI\n",
        "<CODE_BLOCK_19>"
      ]
    },
    {
      "cell_type": "code",
      "execution_count": null,
      "metadata": {
        "id": "GeUwyzd527Ha"
      },
      "outputs": [],
      "source": [
        "# Modify the $vectorSearch stage of the aggregation pipeline defined previously to include a filter for documents where\n",
        "# the `metadata.contentType` field has the value \"Video\"\n",
        "# AND\n",
        "# the `updated` field is greater than or equal to \"2024-05-20\"\n",
        "# NOTE: DO NOT assign this modification to the `pipeline` variable. Only write out the pipeline definition\n",
        "<CODE_BLOCK_20>"
      ]
    },
    {
      "cell_type": "markdown",
      "metadata": {
        "id": "JgYwlkTe27Ha"
      },
      "source": [
        "# Step 9: Build the RAG application\n"
      ]
    },
    {
      "cell_type": "markdown",
      "metadata": {
        "id": "ICjZG5QS27Ha"
      },
      "source": [
        "### Instantiate a chat model\n"
      ]
    },
    {
      "cell_type": "code",
      "execution_count": null,
      "metadata": {
        "id": "QpNxJKV127Ha"
      },
      "outputs": [],
      "source": [
        "from fireworks.client import Fireworks"
      ]
    },
    {
      "cell_type": "code",
      "execution_count": null,
      "metadata": {
        "id": "iE_RTVos27Ha"
      },
      "outputs": [],
      "source": [
        "# Initializing the Fireworks AI client and the model string\n",
        "fw_client = Fireworks()\n",
        "model = \"accounts/fireworks/models/llama-v3-8b-instruct\""
      ]
    },
    {
      "cell_type": "markdown",
      "metadata": {
        "id": "pWghEJZV27Ha"
      },
      "source": [
        "### Define a function to create the chat prompt\n",
        "\n",
        "📚 https://docs.python.org/3/library/stdtypes.html#str.join\n",
        "\n",
        "📚 https://www.w3schools.com/python/python_lists_comprehension.asp\n"
      ]
    },
    {
      "cell_type": "code",
      "execution_count": null,
      "metadata": {
        "id": "gQFtCkhH27Ha"
      },
      "outputs": [],
      "source": [
        "# Define a function to create the user prompt for our RAG application\n",
        "def create_prompt(user_query: str) -> str:\n",
        "    \"\"\"\n",
        "    Create a chat prompt that includes the user query and retrieved context.\n",
        "\n",
        "    Args:\n",
        "        user_query (str): The user's query string.\n",
        "\n",
        "    Returns:\n",
        "        str: The chat prompt string.\n",
        "    \"\"\"\n",
        "    # Retrieve the most relevant documents for the `user_query` using the `vector_search` function\n",
        "    context = <CODE_BLOCK_21>\n",
        "    # Join the retrieved documents into a single string, where each document is separated by two new lines (\"\\n\\n\")\n",
        "    # Use a list comprehension to extract only the `body` field from the documents in `context`\n",
        "    context = <CODE_BLOCK_22>\n",
        "    # Prompt consisting of the question and relevant context to answer it\n",
        "    prompt = f\"Answer the question based only on the following context. If the context is empty, say I DON'T KNOW\\n\\nContext:\\n{context}\\n\\nQuestion:{user_query}\"\n",
        "    return prompt"
      ]
    },
    {
      "cell_type": "markdown",
      "metadata": {
        "id": "WqrjlXOg27Ha"
      },
      "source": [
        "### Define a function to answer user queries\n",
        "\n",
        "📚 https://docs.fireworks.ai/guides/querying-text-models#chat-completions-api\n",
        "\n",
        "📚 https://docs.fireworks.ai/api-reference/post-chatcompletions"
      ]
    },
    {
      "cell_type": "code",
      "execution_count": null,
      "metadata": {
        "id": "JSA2lYrq27Ha"
      },
      "outputs": [],
      "source": [
        "# Define a function to answer user queries using Fireworks' Chat Completion API\n",
        "def generate_answer(user_query: str) -> None:\n",
        "    \"\"\"\n",
        "    Generate an answer to the user query.\n",
        "\n",
        "    Args:\n",
        "        user_query (str): The user's query string.\n",
        "    \"\"\"\n",
        "    # Use the `create_prompt` function above to fill in the `content` field in the chat message\n",
        "    # Set the `temperature` parameter to 0 to get more deterministic responses\n",
        "    # Print the final answer\n",
        "    <CODE_BLOCK_23>"
      ]
    },
    {
      "cell_type": "markdown",
      "metadata": {
        "id": "0B9hUmMW27Hb"
      },
      "source": [
        "### Query the RAG application\n"
      ]
    },
    {
      "cell_type": "code",
      "execution_count": null,
      "metadata": {
        "id": "POpKRGzZ27Hb"
      },
      "outputs": [],
      "source": [
        "generate_answer(\"What is MongoDB Atlas Search?\")"
      ]
    },
    {
      "cell_type": "code",
      "execution_count": null,
      "metadata": {
        "id": "km6G546U27Hb"
      },
      "outputs": [],
      "source": [
        "generate_answer(\"What did I just ask you?\")"
      ]
    },
    {
      "cell_type": "markdown",
      "metadata": {
        "id": "q5Z0yHmB27Hb"
      },
      "source": [
        "# 🦹‍♀️ Re-rank retrieved results\n"
      ]
    },
    {
      "cell_type": "code",
      "execution_count": null,
      "metadata": {
        "id": "g7h1MteF27Hb"
      },
      "outputs": [],
      "source": [
        "from sentence_transformers import CrossEncoder"
      ]
    },
    {
      "cell_type": "code",
      "execution_count": null,
      "metadata": {
        "id": "qaQtYJPi27Hb"
      },
      "outputs": [],
      "source": [
        "rerank_model = CrossEncoder(\"mixedbread-ai/mxbai-rerank-xsmall-v1\")"
      ]
    },
    {
      "cell_type": "markdown",
      "metadata": {
        "id": "zqFRLnI827Hb"
      },
      "source": [
        "📚 https://huggingface.co/mixedbread-ai/mxbai-rerank-xsmall-v1\n",
        "\n",
        "📚 https://www.w3schools.com/python/python_lists_comprehension.asp\n"
      ]
    },
    {
      "cell_type": "code",
      "execution_count": null,
      "metadata": {
        "id": "wE6IF09027Hb"
      },
      "outputs": [],
      "source": [
        "# Add a re-ranking step to the following function\n",
        "def create_prompt(user_query: str) -> str:\n",
        "    \"\"\"\n",
        "    Create a chat prompt that includes the user query and retrieved context.\n",
        "\n",
        "    Args:\n",
        "        user_query (str): The user's query string.\n",
        "\n",
        "    Returns:\n",
        "        str: The chat prompt string.\n",
        "    \"\"\"\n",
        "    # Retrieve the most relevant documents for the `user_query` using the `vector_search` function\n",
        "    context = vector_search(user_query)\n",
        "    # Extract the \"body\" field from each document in `context`\n",
        "    documents = [d.get(\"body\") for d in context]\n",
        "    # Use the `rerank_model` instantiated above to re-rank `documents`\n",
        "    # Set the `top_k` argument to 5\n",
        "    reranked_documents = <CODE_BLOCK_24>\n",
        "    # Join the re-ranked documents into a single string, where each document is separated by two new lines (\"\\n\\n\")\n",
        "    # Example format of results from the re-ranker: [{\"corpus_id\": 0, \"score\": 0.99, \"text\": \"some text\"}]\n",
        "    # Use a list comprehension to extract only the `text` field from the documents in `reranked_documents`\n",
        "    context = <CODE_BLOCK_25>\n",
        "    # Prompt consisting of the question and relevant context to answer it\n",
        "    prompt = f\"Answer the question based only on the following context. If the context is empty, say I DON'T KNOW\\n\\nContext:\\n{context}\\n\\nQuestion:{user_query}\"\n",
        "    return prompt"
      ]
    },
    {
      "cell_type": "code",
      "execution_count": null,
      "metadata": {
        "id": "UouJ0DEI27Hb"
      },
      "outputs": [],
      "source": [
        "# Note the impact of re-ranking on the generated answer\n",
        "generate_answer(\"What are triggers in MongoDB Atlas?\")"
      ]
    },
    {
      "cell_type": "markdown",
      "metadata": {
        "id": "f4H4gO4e27Hb"
      },
      "source": [
        "# 🦹‍♀️ Return streaming responses\n",
        "\n",
        "📚 https://docs.fireworks.ai/guides/querying-text-models#streaming\n"
      ]
    },
    {
      "cell_type": "code",
      "execution_count": null,
      "metadata": {
        "id": "Eo6-Y-qb27Hc"
      },
      "outputs": [],
      "source": [
        "# Define a function to answer user queries in streaming mode using Fireworks' Chat Completion API\n",
        "def generate_answer(user_query: str) -> None:\n",
        "    \"\"\"\n",
        "    Generate an answer to the user query.\n",
        "\n",
        "    Args:\n",
        "        user_query (str): The user's query string.\n",
        "    \"\"\"\n",
        "    # Use the `create_prompt` function above to fill in the `content` field in the chat message\n",
        "    # Set the `temperature` parameter to 0 to get more deterministic responses\n",
        "    # Set the `stream` parameter to True\n",
        "    response = <CODE_BLOCK_26>\n",
        "\n",
        "    # Iterate through the `response` generator and print the results as they are generated\n",
        "    <CODE_BLOCK_27>"
      ]
    },
    {
      "cell_type": "code",
      "execution_count": null,
      "metadata": {
        "id": "VxGnrr8w27Hc"
      },
      "outputs": [],
      "source": [
        "generate_answer(\"What is MongoDB Atlas Search?\")"
      ]
    },
    {
      "cell_type": "markdown",
      "metadata": {
        "id": "Aky_rpXv27Hc"
      },
      "source": [
        "# Step 10: Add memory to the RAG application\n"
      ]
    },
    {
      "cell_type": "code",
      "execution_count": null,
      "metadata": {
        "id": "2OP0clX627Hc"
      },
      "outputs": [],
      "source": [
        "from datetime import datetime"
      ]
    },
    {
      "cell_type": "code",
      "execution_count": null,
      "metadata": {
        "id": "YYuDr1Jj27Hc"
      },
      "outputs": [],
      "source": [
        "history_collection = mongodb_client[DB_NAME][\"chat_history\"]"
      ]
    },
    {
      "cell_type": "markdown",
      "metadata": {
        "id": "j6ucremw27Hc"
      },
      "source": [
        "📚 https://pymongo.readthedocs.io/en/stable/api/pymongo/collection.html#pymongo.collection.Collection.create_index\n"
      ]
    },
    {
      "cell_type": "code",
      "execution_count": null,
      "metadata": {
        "id": "afPYczRG27Hc"
      },
      "outputs": [],
      "source": [
        "# Create an index on the key `session_id` for the `history_collection` collection\n",
        "<CODE_BLOCK_28>"
      ]
    },
    {
      "cell_type": "markdown",
      "metadata": {
        "id": "wDzAlrDo27Hc"
      },
      "source": [
        "### Define a function to store chat messages in MongoDB\n",
        "\n",
        "📚 https://docs.python.org/3/library/datetime.html#datetime.datetime.nowhttps://docs.python.org/3/library/datetime.html#datetime.datetime.now\n",
        "\n",
        "📚 https://pymongo.readthedocs.io/en/stable/api/pymongo/collection.html#pymongo.collection.Collection.insert_one\n"
      ]
    },
    {
      "cell_type": "code",
      "execution_count": null,
      "metadata": {
        "id": "7oZWvgbL27Hc"
      },
      "outputs": [],
      "source": [
        "def store_chat_message(session_id: str, role: str, content: str) -> None:\n",
        "    \"\"\"\n",
        "    Store a chat message in a MongoDB collection.\n",
        "\n",
        "    Args:\n",
        "        session_id (str): Session ID of the message.\n",
        "        role (str): Role for the message. One of `system`, `user` or `assistant`.\n",
        "        content (str): Content of the message.\n",
        "    \"\"\"\n",
        "    # Create a message object with `session_id`, `role`, `content` and `timestamp` fields\n",
        "    # `timestamp` should be set the current timestamp\n",
        "    message = <CODE_BLOCK_29>\n",
        "    # Insert the `message` into the `history_collection` collection\n",
        "    <CODE_BLOCK_30>"
      ]
    },
    {
      "cell_type": "markdown",
      "metadata": {
        "id": "mHs57J_Z27Hc"
      },
      "source": [
        "### Define a function to retrieve chat history from MongoDB\n",
        "\n",
        "📚 https://pymongo.readthedocs.io/en/stable/api/pymongo/collection.html#pymongo.collection.Collection.find\n",
        "\n",
        "📚 https://pymongo.readthedocs.io/en/stable/api/pymongo/cursor.html#pymongo.cursor.Cursor.sort\n",
        "\n",
        "📚 https://www.w3schools.com/python/python_lists_comprehension.asp\n"
      ]
    },
    {
      "cell_type": "code",
      "execution_count": null,
      "metadata": {
        "id": "goPbjQcz27Hc"
      },
      "outputs": [],
      "source": [
        "def retrieve_session_history(session_id: str) -> List:\n",
        "    \"\"\"\n",
        "    Retrieve chat message history for a particular session.\n",
        "\n",
        "    Args:\n",
        "        session_id (str): Session ID to retrieve chat message history for.\n",
        "\n",
        "    Returns:\n",
        "        List: List of chat messages.\n",
        "    \"\"\"\n",
        "    # Query the `history_collection` collection for documents where the \"session_id\" field has the value of the input `session_id`\n",
        "    # Sort the results in increasing order of the values in `timestamp` field\n",
        "    cursor =  <CODE_BLOCK_31>\n",
        "\n",
        "    if cursor:\n",
        "        # Write a list comprehension to iterate through the cursor and extract the `role` and `content` field from each entry\n",
        "        # Then format each entry as: {\"role\": <role_value>, \"content\": <content_value>}\n",
        "        messages = <CODE_BLOCK_32>\n",
        "    else:\n",
        "        # If cursor is empty, return an empty list\n",
        "        messages = []\n",
        "\n",
        "    return messages"
      ]
    },
    {
      "cell_type": "markdown",
      "metadata": {
        "id": "0IUMb82U27Hd"
      },
      "source": [
        "### Handle chat history in the `generate_answer` function\n",
        "\n",
        "📚 https://docs.python.org/3/tutorial/datastructures.html\n",
        "\n",
        "📚 https://docs.fireworks.ai/guides/querying-text-models#chat-completions-api\n"
      ]
    },
    {
      "cell_type": "code",
      "execution_count": null,
      "metadata": {
        "id": "bEEhwXAi27Hd"
      },
      "outputs": [],
      "source": [
        "def generate_answer(session_id: str, user_query: str) -> None:\n",
        "    \"\"\"\n",
        "    Generate an answer to the user's query taking chat history into account.\n",
        "\n",
        "    Args:\n",
        "        session_id (str): Session ID to retrieve chat history for.\n",
        "        user_query (str): The user's query string.\n",
        "    \"\"\"\n",
        "    # Initialize list of messages to pass to the chat completion model\n",
        "    messages = []\n",
        "\n",
        "    # Retrieve documents relevant to the user query and convert them to a single string\n",
        "    context = vector_search(user_query)\n",
        "    context = \"\\n\\n\".join([d.get(\"body\", \"\") for d in context])\n",
        "    # Create a system prompt containing the retrieved context\n",
        "    system_message = {\n",
        "        \"role\": \"system\",\n",
        "        \"content\": f\"Answer the question based only on the following context. If the context is empty, say I DON'T KNOW\\n\\nContext:\\n{context}\",\n",
        "    }\n",
        "    # Append the system prompt to the `messages` list\n",
        "    messages.append(system_message)\n",
        "\n",
        "    # Use the `retrieve_session_history` function to retrieve message history from MongoDB for the session ID `session_id`\n",
        "    # And add all messages in the message history to the `messages` list\n",
        "    <CODE_BLOCK_33>\n",
        "\n",
        "    # Format the user message in the format {\"role\": <role_value>, \"content\": <content_value>}\n",
        "    # The role value for user messages must be \"user\"\n",
        "    # And append the user message to the `messages` list\n",
        "    <CODE_BLOCK_34>\n",
        "\n",
        "    # Call the chat completions API\n",
        "    response = fw_client.chat.completions.create(model=model, messages=messages)\n",
        "\n",
        "    # Extract the answer from the API response\n",
        "    answer = response.choices[0].message.content\n",
        "\n",
        "    # Use the `store_chat_message` function to store the user message and also the generated answer in the message history collection\n",
        "    # The role value for user messages is \"user\", and \"assistant\" for the generated answer\n",
        "    <CODE_BLOCK_35>\n",
        "\n",
        "    print(answer)"
      ]
    },
    {
      "cell_type": "code",
      "execution_count": null,
      "metadata": {
        "id": "u_-DvoFr27Hd"
      },
      "outputs": [],
      "source": [
        "generate_answer(\n",
        "    session_id=\"1\",\n",
        "    user_query=\"What are triggers in MongoDB Atlas?\",\n",
        ")"
      ]
    },
    {
      "cell_type": "code",
      "execution_count": null,
      "metadata": {
        "id": "jxN11Ec727Hd"
      },
      "outputs": [],
      "source": [
        "generate_answer(\n",
        "    session_id=\"1\",\n",
        "    user_query=\"What did I just ask you?\",\n",
        ")"
      ]
    }
  ],
  "metadata": {
    "kernelspec": {
      "display_name": ".venv",
      "language": "python",
      "name": "python3"
    },
    "language_info": {
      "codemirror_mode": {
        "name": "ipython",
        "version": 3
      },
      "file_extension": ".py",
      "mimetype": "text/x-python",
      "name": "python",
      "nbconvert_exporter": "python",
      "pygments_lexer": "ipython3",
      "version": "3.12.1"
    },
    "colab": {
      "provenance": [],
      "include_colab_link": true
    }
  },
  "nbformat": 4,
  "nbformat_minor": 0
}